{
 "cells": [
  {
   "cell_type": "markdown",
   "id": "15f9e502",
   "metadata": {},
   "source": [
    "# STOCK PRICE PREDICTION\n",
    "                                    -Domavarapu Rahul,NIT Durgapur\n",
    "                  "
   ]
  },
  {
   "cell_type": "markdown",
   "id": "ce8609c4",
   "metadata": {},
   "source": [
    "**IMPORTING LIBRARIES**"
   ]
  },
  {
   "cell_type": "code",
   "execution_count": 1,
   "id": "739449bb",
   "metadata": {},
   "outputs": [],
   "source": [
    "import pandas as pd\n",
    "import numpy as np\n",
    "\n",
    "#to plot within notebook\n",
    "import matplotlib.pyplot as plt\n",
    "%matplotlib inline"
   ]
  },
  {
   "cell_type": "markdown",
   "id": "08cbce5c",
   "metadata": {},
   "source": [
    "**DATA PREPARTION/PREPROCESSING**"
   ]
  },
  {
   "cell_type": "code",
   "execution_count": 2,
   "id": "0a5f1b76",
   "metadata": {},
   "outputs": [
    {
     "name": "stdout",
     "output_type": "stream",
     "text": [
      "1235\n"
     ]
    }
   ],
   "source": [
    "df = pd.read_csv('C:\\\\Users\\\\Rahul Domavarapu\\\\Downloads\\\\NSE-TATAGLOBAL11.csv')\n",
    "\n",
    "#print the head\n",
    "df.head()\n",
    "print(len(df))"
   ]
  },
  {
   "cell_type": "code",
   "execution_count": 3,
   "id": "5fb0645f",
   "metadata": {},
   "outputs": [
    {
     "name": "stdout",
     "output_type": "stream",
     "text": [
      "<class 'pandas.core.frame.DataFrame'>\n",
      "RangeIndex: 1235 entries, 0 to 1234\n",
      "Data columns (total 8 columns):\n",
      " #   Column                Non-Null Count  Dtype  \n",
      "---  ------                --------------  -----  \n",
      " 0   Date                  1235 non-null   object \n",
      " 1   Open                  1235 non-null   float64\n",
      " 2   High                  1235 non-null   float64\n",
      " 3   Low                   1235 non-null   float64\n",
      " 4   Last                  1235 non-null   float64\n",
      " 5   Close                 1235 non-null   float64\n",
      " 6   Total Trade Quantity  1235 non-null   float64\n",
      " 7   Turnover (Lacs)       1235 non-null   float64\n",
      "dtypes: float64(7), object(1)\n",
      "memory usage: 77.3+ KB\n"
     ]
    }
   ],
   "source": [
    "df.info()"
   ]
  },
  {
   "cell_type": "code",
   "execution_count": 4,
   "id": "99aaf6e7",
   "metadata": {},
   "outputs": [
    {
     "data": {
      "text/plain": [
       "Date                    0\n",
       "Open                    0\n",
       "High                    0\n",
       "Low                     0\n",
       "Last                    0\n",
       "Close                   0\n",
       "Total Trade Quantity    0\n",
       "Turnover (Lacs)         0\n",
       "dtype: int64"
      ]
     },
     "execution_count": 4,
     "metadata": {},
     "output_type": "execute_result"
    }
   ],
   "source": [
    "df.isnull().sum()"
   ]
  },
  {
   "cell_type": "code",
   "execution_count": 5,
   "id": "e543beb8",
   "metadata": {},
   "outputs": [
    {
     "name": "stdout",
     "output_type": "stream",
     "text": [
      "980\n",
      "246\n"
     ]
    }
   ],
   "source": [
    "from sklearn.model_selection import train_test_split\n",
    "\n",
    "X = []\n",
    "Y = []\n",
    "window_size= 7\n",
    "for i in range(1 , len(df) - window_size -1 , 1):\n",
    "    first = df.iloc[i,2]\n",
    "    temp = []\n",
    "    temp2 = []\n",
    "    for j in range(window_size):\n",
    "        temp.append((df.iloc[i + j, 2] - first) / first)\n",
    "    temp2.append((df.iloc[i + window_size, 2] - first) / first)\n",
    "    X.append(np.array(temp).reshape(7, 1))\n",
    "    Y.append(np.array(temp2).reshape(1, 1))\n",
    "\n",
    "\n",
    "x_train, x_test, y_train, y_test = train_test_split(X, Y, test_size=0.2, shuffle=True)\n",
    "\n",
    "train_X = np.array(x_train)\n",
    "test_X = np.array(x_test)\n",
    "train_Y = np.array(y_train)\n",
    "test_Y = np.array(y_test)\n",
    "\n",
    "train_X = train_X.reshape(train_X.shape[0],1,7,1)\n",
    "test_X = test_X.reshape(test_X.shape[0],1,7,1)\n",
    "\n",
    "print(len(train_X))\n",
    "print(len(test_X))"
   ]
  },
  {
   "cell_type": "markdown",
   "id": "08ba4b52",
   "metadata": {},
   "source": [
    "**BUILDING THE MODEL**"
   ]
  },
  {
   "cell_type": "code",
   "execution_count": 6,
   "id": "cfea63bc",
   "metadata": {},
   "outputs": [],
   "source": [
    "import tensorflow as tf\n",
    "from tensorflow.keras.layers import Conv1D, LSTM, Dense, Dropout, Bidirectional, TimeDistributed\n",
    "from tensorflow.keras.layers import MaxPooling1D, Flatten\n",
    "from tensorflow.keras.regularizers import L1, L2\n",
    "from tensorflow.keras.metrics import Accuracy\n",
    "from tensorflow.keras.metrics import RootMeanSquaredError"
   ]
  },
  {
   "cell_type": "code",
   "execution_count": 7,
   "id": "082b540b",
   "metadata": {
    "scrolled": false
   },
   "outputs": [],
   "source": [
    "# For creating model and training\n",
    "model = tf.keras.Sequential()\n",
    "\n",
    "# Creating the Neural Network model here...\n",
    "# CNN layers\n",
    "model.add(TimeDistributed(Conv1D(64, kernel_size=3, activation='relu',padding = 'same',input_shape=(None,7, 1))))\n",
    "model.add(TimeDistributed(MaxPooling1D(2,padding = 'same')))\n",
    "model.add(TimeDistributed(Conv1D(128, kernel_size=3,padding = 'same',activation='relu')))\n",
    "model.add(TimeDistributed(MaxPooling1D(2,padding = 'same')))\n",
    "model.add(TimeDistributed(Conv1D(64, kernel_size=3,padding = 'same',activation='relu')))\n",
    "model.add(TimeDistributed(MaxPooling1D(2,padding = 'same')))\n",
    "# model.add(TimeDistributed(MaxPooling1D(2)))\n",
    "model.add(TimeDistributed(Flatten()))\n",
    "# model.add(Dense(5, kernel_regularizer=L2(0.01)))\n",
    "\n",
    "# LSTM layers\n",
    "model.add(Bidirectional(LSTM(7, return_sequences=True)))\n",
    "model.add(Dropout(0.5))\n",
    "model.add(Bidirectional(LSTM(7, return_sequences=False)))\n",
    "model.add(Dropout(0.5))\n",
    "\n",
    "#Final layers\n",
    "model.add(Dense(1, activation='linear'))"
   ]
  },
  {
   "cell_type": "code",
   "execution_count": 8,
   "id": "2cdf7c0b",
   "metadata": {},
   "outputs": [
    {
     "name": "stdout",
     "output_type": "stream",
     "text": [
      "Epoch 1/40\n",
      "25/25 [==============================] - 25s 187ms/step - loss: 0.0023 - mse: 0.0023 - mae: 0.0356 - val_loss: 0.0017 - val_mse: 0.0017 - val_mae: 0.0293\n",
      "Epoch 2/40\n",
      "25/25 [==============================] - 0s 18ms/step - loss: 0.0012 - mse: 0.0012 - mae: 0.0256 - val_loss: 9.3733e-04 - val_mse: 9.3733e-04 - val_mae: 0.0221\n",
      "Epoch 3/40\n",
      "25/25 [==============================] - 0s 19ms/step - loss: 0.0011 - mse: 0.0011 - mae: 0.0237 - val_loss: 7.2643e-04 - val_mse: 7.2643e-04 - val_mae: 0.0185\n",
      "Epoch 4/40\n",
      "25/25 [==============================] - 0s 20ms/step - loss: 0.0010 - mse: 0.0010 - mae: 0.0236 - val_loss: 6.3555e-04 - val_mse: 6.3555e-04 - val_mae: 0.0172\n",
      "Epoch 5/40\n",
      "25/25 [==============================] - 1s 20ms/step - loss: 0.0010 - mse: 0.0010 - mae: 0.0233 - val_loss: 8.0282e-04 - val_mse: 8.0282e-04 - val_mae: 0.0214\n",
      "Epoch 6/40\n",
      "25/25 [==============================] - 1s 21ms/step - loss: 8.3144e-04 - mse: 8.3144e-04 - mae: 0.0207 - val_loss: 5.8635e-04 - val_mse: 5.8635e-04 - val_mae: 0.0167\n",
      "Epoch 7/40\n",
      "25/25 [==============================] - 1s 20ms/step - loss: 7.3304e-04 - mse: 7.3304e-04 - mae: 0.0200 - val_loss: 5.2060e-04 - val_mse: 5.2060e-04 - val_mae: 0.0152\n",
      "Epoch 8/40\n",
      "25/25 [==============================] - 1s 20ms/step - loss: 7.3235e-04 - mse: 7.3235e-04 - mae: 0.0200 - val_loss: 5.2143e-04 - val_mse: 5.2143e-04 - val_mae: 0.0154\n",
      "Epoch 9/40\n",
      "25/25 [==============================] - 0s 19ms/step - loss: 7.5561e-04 - mse: 7.5561e-04 - mae: 0.0197 - val_loss: 5.8149e-04 - val_mse: 5.8149e-04 - val_mae: 0.0169\n",
      "Epoch 10/40\n",
      "25/25 [==============================] - 0s 20ms/step - loss: 7.0081e-04 - mse: 7.0081e-04 - mae: 0.0195 - val_loss: 6.4006e-04 - val_mse: 6.4006e-04 - val_mae: 0.0175\n",
      "Epoch 11/40\n",
      "25/25 [==============================] - 0s 19ms/step - loss: 7.5580e-04 - mse: 7.5580e-04 - mae: 0.0201 - val_loss: 5.8073e-04 - val_mse: 5.8073e-04 - val_mae: 0.0165\n",
      "Epoch 12/40\n",
      "25/25 [==============================] - 0s 19ms/step - loss: 7.3735e-04 - mse: 7.3735e-04 - mae: 0.0201 - val_loss: 4.8631e-04 - val_mse: 4.8631e-04 - val_mae: 0.0146\n",
      "Epoch 13/40\n",
      "25/25 [==============================] - 0s 19ms/step - loss: 6.7387e-04 - mse: 6.7387e-04 - mae: 0.0185 - val_loss: 4.5972e-04 - val_mse: 4.5972e-04 - val_mae: 0.0141\n",
      "Epoch 14/40\n",
      "25/25 [==============================] - 1s 21ms/step - loss: 6.7288e-04 - mse: 6.7288e-04 - mae: 0.0191 - val_loss: 5.0201e-04 - val_mse: 5.0201e-04 - val_mae: 0.0152\n",
      "Epoch 15/40\n",
      "25/25 [==============================] - 1s 22ms/step - loss: 7.1537e-04 - mse: 7.1537e-04 - mae: 0.0193 - val_loss: 5.3320e-04 - val_mse: 5.3320e-04 - val_mae: 0.0155\n",
      "Epoch 16/40\n",
      "25/25 [==============================] - 0s 20ms/step - loss: 6.1282e-04 - mse: 6.1282e-04 - mae: 0.0181 - val_loss: 5.5330e-04 - val_mse: 5.5330e-04 - val_mae: 0.0167\n",
      "Epoch 17/40\n",
      "25/25 [==============================] - 0s 19ms/step - loss: 6.4057e-04 - mse: 6.4057e-04 - mae: 0.0189 - val_loss: 4.6176e-04 - val_mse: 4.6176e-04 - val_mae: 0.0143\n",
      "Epoch 18/40\n",
      "25/25 [==============================] - 0s 20ms/step - loss: 6.9558e-04 - mse: 6.9558e-04 - mae: 0.0187 - val_loss: 5.6316e-04 - val_mse: 5.6316e-04 - val_mae: 0.0163\n",
      "Epoch 19/40\n",
      "25/25 [==============================] - 0s 20ms/step - loss: 6.9821e-04 - mse: 6.9821e-04 - mae: 0.0195 - val_loss: 4.7658e-04 - val_mse: 4.7658e-04 - val_mae: 0.0143\n",
      "Epoch 20/40\n",
      "25/25 [==============================] - 1s 21ms/step - loss: 7.0044e-04 - mse: 7.0044e-04 - mae: 0.0190 - val_loss: 4.8528e-04 - val_mse: 4.8528e-04 - val_mae: 0.0147\n",
      "Epoch 21/40\n",
      "25/25 [==============================] - 1s 20ms/step - loss: 6.1656e-04 - mse: 6.1656e-04 - mae: 0.0183 - val_loss: 4.5118e-04 - val_mse: 4.5118e-04 - val_mae: 0.0138\n",
      "Epoch 22/40\n",
      "25/25 [==============================] - 1s 21ms/step - loss: 6.2569e-04 - mse: 6.2569e-04 - mae: 0.0181 - val_loss: 4.8092e-04 - val_mse: 4.8092e-04 - val_mae: 0.0145\n",
      "Epoch 23/40\n",
      "25/25 [==============================] - 0s 20ms/step - loss: 6.5282e-04 - mse: 6.5282e-04 - mae: 0.0185 - val_loss: 4.7599e-04 - val_mse: 4.7599e-04 - val_mae: 0.0146\n",
      "Epoch 24/40\n",
      "25/25 [==============================] - 1s 21ms/step - loss: 6.3463e-04 - mse: 6.3463e-04 - mae: 0.0182 - val_loss: 5.2424e-04 - val_mse: 5.2424e-04 - val_mae: 0.0162\n",
      "Epoch 25/40\n",
      "25/25 [==============================] - 0s 20ms/step - loss: 6.2832e-04 - mse: 6.2832e-04 - mae: 0.0184 - val_loss: 5.7338e-04 - val_mse: 5.7338e-04 - val_mae: 0.0173\n",
      "Epoch 26/40\n",
      "25/25 [==============================] - 1s 20ms/step - loss: 7.1409e-04 - mse: 7.1409e-04 - mae: 0.0195 - val_loss: 4.9704e-04 - val_mse: 4.9704e-04 - val_mae: 0.0151\n",
      "Epoch 27/40\n",
      "25/25 [==============================] - 1s 20ms/step - loss: 6.8204e-04 - mse: 6.8204e-04 - mae: 0.0187 - val_loss: 5.4668e-04 - val_mse: 5.4668e-04 - val_mae: 0.0161\n",
      "Epoch 28/40\n",
      "25/25 [==============================] - 1s 20ms/step - loss: 6.6334e-04 - mse: 6.6334e-04 - mae: 0.0191 - val_loss: 6.1521e-04 - val_mse: 6.1521e-04 - val_mae: 0.0176\n",
      "Epoch 29/40\n",
      "25/25 [==============================] - 0s 20ms/step - loss: 6.3153e-04 - mse: 6.3153e-04 - mae: 0.0183 - val_loss: 5.1573e-04 - val_mse: 5.1573e-04 - val_mae: 0.0156\n",
      "Epoch 30/40\n",
      "25/25 [==============================] - 1s 21ms/step - loss: 6.3797e-04 - mse: 6.3797e-04 - mae: 0.0184 - val_loss: 5.2999e-04 - val_mse: 5.2999e-04 - val_mae: 0.0161\n",
      "Epoch 31/40\n",
      "25/25 [==============================] - 0s 20ms/step - loss: 6.8442e-04 - mse: 6.8442e-04 - mae: 0.0184 - val_loss: 6.0939e-04 - val_mse: 6.0939e-04 - val_mae: 0.0170\n",
      "Epoch 32/40\n",
      "25/25 [==============================] - 1s 21ms/step - loss: 6.6510e-04 - mse: 6.6510e-04 - mae: 0.0185 - val_loss: 5.0623e-04 - val_mse: 5.0623e-04 - val_mae: 0.0151\n",
      "Epoch 33/40\n",
      "25/25 [==============================] - 1s 20ms/step - loss: 6.1650e-04 - mse: 6.1650e-04 - mae: 0.0179 - val_loss: 5.3840e-04 - val_mse: 5.3840e-04 - val_mae: 0.0156\n",
      "Epoch 34/40\n",
      "25/25 [==============================] - 1s 22ms/step - loss: 5.8885e-04 - mse: 5.8885e-04 - mae: 0.0180 - val_loss: 4.9752e-04 - val_mse: 4.9752e-04 - val_mae: 0.0151\n",
      "Epoch 35/40\n",
      "25/25 [==============================] - 0s 20ms/step - loss: 6.0656e-04 - mse: 6.0656e-04 - mae: 0.0177 - val_loss: 5.6206e-04 - val_mse: 5.6206e-04 - val_mae: 0.0169\n",
      "Epoch 36/40\n",
      "25/25 [==============================] - 1s 21ms/step - loss: 6.1786e-04 - mse: 6.1786e-04 - mae: 0.0181 - val_loss: 4.7371e-04 - val_mse: 4.7371e-04 - val_mae: 0.0145\n",
      "Epoch 37/40\n",
      "25/25 [==============================] - 1s 21ms/step - loss: 5.9849e-04 - mse: 5.9849e-04 - mae: 0.0178 - val_loss: 4.6437e-04 - val_mse: 4.6437e-04 - val_mae: 0.0143\n",
      "Epoch 38/40\n",
      "25/25 [==============================] - 1s 21ms/step - loss: 6.1889e-04 - mse: 6.1889e-04 - mae: 0.0183 - val_loss: 5.3908e-04 - val_mse: 5.3908e-04 - val_mae: 0.0161\n",
      "Epoch 39/40\n",
      "25/25 [==============================] - 1s 21ms/step - loss: 7.4186e-04 - mse: 7.4186e-04 - mae: 0.0207 - val_loss: 5.2093e-04 - val_mse: 5.2093e-04 - val_mae: 0.0154\n",
      "Epoch 40/40\n",
      "25/25 [==============================] - 1s 20ms/step - loss: 6.5222e-04 - mse: 6.5222e-04 - mae: 0.0184 - val_loss: 5.8444e-04 - val_mse: 5.8444e-04 - val_mae: 0.0168\n"
     ]
    }
   ],
   "source": [
    "model.compile(optimizer='adam', loss='mse', metrics=['mse', 'mae'])\n",
    "history = model.fit(train_X, train_Y, validation_data=(test_X,test_Y), epochs=40,batch_size=40, verbose=1, shuffle =True)"
   ]
  },
  {
   "cell_type": "code",
   "execution_count": 9,
   "id": "659c448a",
   "metadata": {},
   "outputs": [
    {
     "data": {
      "text/plain": [
       "<matplotlib.legend.Legend at 0x2a8ffe843d0>"
      ]
     },
     "execution_count": 9,
     "metadata": {},
     "output_type": "execute_result"
    },
    {
     "data": {
      "image/png": "[encoded data removed]",
      "text/plain": [
       "<Figure size 432x288 with 1 Axes>"
      ]
     },
     "metadata": {
      "needs_background": "light"
     },
     "output_type": "display_data"
    }
   ],
   "source": [
    "plt.plot(history.history['loss'], label='train loss')\n",
    "plt.plot(history.history['val_loss'], label='val loss')\n",
    "plt.xlabel(\"epoch\")\n",
    "plt.ylabel(\"Loss\")\n",
    "plt.legend()"
   ]
  },
  {
   "cell_type": "code",
   "execution_count": 10,
   "id": "3f6ae930",
   "metadata": {},
   "outputs": [
    {
     "name": "stdout",
     "output_type": "stream",
     "text": [
      "Model: \"sequential\"\n",
      "_________________________________________________________________\n",
      " Layer (type)                Output Shape              Param #   \n",
      "=================================================================\n",
      " time_distributed (TimeDistr  (None, 1, 7, 64)         256       \n",
      " ibuted)                                                         \n",
      "                                                                 \n",
      " time_distributed_1 (TimeDis  (None, 1, 4, 64)         0         \n",
      " tributed)                                                       \n",
      "                                                                 \n",
      " time_distributed_2 (TimeDis  (None, 1, 4, 128)        24704     \n",
      " tributed)                                                       \n",
      "                                                                 \n",
      " time_distributed_3 (TimeDis  (None, 1, 2, 128)        0         \n",
      " tributed)                                                       \n",
      "                                                                 \n",
      " time_distributed_4 (TimeDis  (None, 1, 2, 64)         24640     \n",
      " tributed)                                                       \n",
      "                                                                 \n",
      " time_distributed_5 (TimeDis  (None, 1, 1, 64)         0         \n",
      " tributed)                                                       \n",
      "                                                                 \n",
      " time_distributed_6 (TimeDis  (None, 1, 64)            0         \n",
      " tributed)                                                       \n",
      "                                                                 \n",
      " bidirectional (Bidirectiona  (None, 1, 14)            4032      \n",
      " l)                                                              \n",
      "                                                                 \n",
      " dropout (Dropout)           (None, 1, 14)             0         \n",
      "                                                                 \n",
      " bidirectional_1 (Bidirectio  (None, 14)               1232      \n",
      " nal)                                                            \n",
      "                                                                 \n",
      " dropout_1 (Dropout)         (None, 14)                0         \n",
      "                                                                 \n",
      " dense (Dense)               (None, 1)                 15        \n",
      "                                                                 \n",
      "=================================================================\n",
      "Total params: 54,879\n",
      "Trainable params: 54,879\n",
      "Non-trainable params: 0\n",
      "_________________________________________________________________\n",
      "None\n"
     ]
    }
   ],
   "source": [
    "print(model.summary())"
   ]
  },
  {
   "cell_type": "code",
   "execution_count": 11,
   "id": "c3dd4a3a",
   "metadata": {},
   "outputs": [
    {
     "name": "stdout",
     "output_type": "stream",
     "text": [
      "8/8 [==============================] - 0s 9ms/step - loss: 5.8444e-04 - mse: 5.8444e-04 - mae: 0.0168\n"
     ]
    },
    {
     "data": {
      "text/plain": [
       "[0.0005844352417625487, 0.0005844352417625487, 0.01677684113383293]"
      ]
     },
     "execution_count": 11,
     "metadata": {},
     "output_type": "execute_result"
    }
   ],
   "source": [
    "model.evaluate(test_X, test_Y)"
   ]
  },
  {
   "cell_type": "code",
   "execution_count": 12,
   "id": "dd47d8d8",
   "metadata": {},
   "outputs": [
    {
     "name": "stdout",
     "output_type": "stream",
     "text": [
      "8/8 [==============================] - 4s 6ms/step\n"
     ]
    }
   ],
   "source": [
    "predicted  = model.predict(test_X)\n",
    "test_label = test_Y.reshape(-1,1)\n",
    "predicted = np.array(predicted[:,0]).reshape(-1,1)\n",
    "len_t = len(train_X)\n",
    "for j in range(len_t , len_t + len(test_X)):\n",
    "    temp = df.iloc[j,3]\n",
    "    test_label[j - len_t] = test_label[j - len_t] * temp + temp\n",
    "    predicted[j - len_t] = predicted[j - len_t] * temp + temp\n"
   ]
  },
  {
   "cell_type": "code",
   "execution_count": 13,
   "id": "3ab498fd",
   "metadata": {},
   "outputs": [
    {
     "data": {
      "image/png": "[encoded data removed]",
      "text/plain": [
       "<Figure size 432x288 with 1 Axes>"
      ]
     },
     "metadata": {
      "needs_background": "light"
     },
     "output_type": "display_data"
    }
   ],
   "source": [
    "plt.plot(predicted, color = 'green', label = 'Predicted  Stock Price')\n",
    "plt.plot(test_label, color = 'yellow', label = 'Real Stock Price')\n",
    "plt.title(' Stock Price Prediction')\n",
    "plt.xlabel('Time')\n",
    "plt.ylabel(' Stock Price')\n",
    "plt.legend()\n",
    "plt.show()"
   ]
  },
  {
   "cell_type": "code",
   "execution_count": null,
   "id": "6990d10a",
   "metadata": {},
   "outputs": [],
   "source": []
  }
 ],
 "metadata": {
  "kernelspec": {
   "display_name": "Python 3 (ipykernel)",
   "language": "python",
   "name": "python3"
  },
  "language_info": {
   "codemirror_mode": {
    "name": "ipython",
    "version": 3
   },
   "file_extension": ".py",
   "mimetype": "text/x-python",
   "name": "python",
   "nbconvert_exporter": "python",
   "pygments_lexer": "ipython3",
   "version": "3.10.4"
  }
 },
 "nbformat": 4,
 "nbformat_minor": 5
}
